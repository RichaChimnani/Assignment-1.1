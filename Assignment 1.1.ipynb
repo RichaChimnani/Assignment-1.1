{
 "cells": [
  {
   "cell_type": "code",
   "execution_count": 9,
   "metadata": {},
   "outputs": [
    {
     "name": "stdout",
     "output_type": "stream",
     "text": [
      "Enter your name: Amit\n",
      "Hi  Amit\n",
      "I am Richa an Electrical Engineer having over 10 years of work exoerience in Energy and Steel sector :)\n"
     ]
    }
   ],
   "source": [
    "# Intro\n",
    "# To take input from user\n",
    "\n",
    "n = (input(\"Enter your name: \"))\n",
    "print (\"Hi \", n)\n",
    "print (\"I am Richa an Electrical Engineer having over 10 years of work exoerience in Energy and Steel sector :)\")"
   ]
  },
  {
   "cell_type": "code",
   "execution_count": null,
   "metadata": {},
   "outputs": [],
   "source": []
  },
  {
   "cell_type": "code",
   "execution_count": null,
   "metadata": {},
   "outputs": [],
   "source": []
  }
 ],
 "metadata": {
  "kernelspec": {
   "display_name": "Python 3",
   "language": "python",
   "name": "python3"
  },
  "language_info": {
   "codemirror_mode": {
    "name": "ipython",
    "version": 3
   },
   "file_extension": ".py",
   "mimetype": "text/x-python",
   "name": "python",
   "nbconvert_exporter": "python",
   "pygments_lexer": "ipython3",
   "version": "3.6.4"
  }
 },
 "nbformat": 4,
 "nbformat_minor": 2
}
