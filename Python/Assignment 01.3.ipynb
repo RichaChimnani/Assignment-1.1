{
 "cells": [
  {
   "cell_type": "code",
   "execution_count": 1,
   "metadata": {},
   "outputs": [
    {
     "name": "stdout",
     "output_type": "stream",
     "text": [
      "Enter your first name: Richa\n",
      "Enter your last name: Chimnani\n",
      "inanmihC   ahciR\n"
     ]
    }
   ],
   "source": [
    "# Assignment 1.3\n",
    "\n",
    "# Python program to accept the user's first and last name and then getting them printed in the the reverse order with a space\n",
    "# between first name and last name.\n",
    "\n",
    "fn = (input(\"Enter your first name: \"))\n",
    "ln = (input(\"Enter your last name: \"))\n",
    "print (ln[::-1], \" \", fn[::-1])"
   ]
  },
  {
   "cell_type": "code",
   "execution_count": null,
   "metadata": {},
   "outputs": [],
   "source": []
  }
 ],
 "metadata": {
  "kernelspec": {
   "display_name": "Python 3",
   "language": "python",
   "name": "python3"
  },
  "language_info": {
   "codemirror_mode": {
    "name": "ipython",
    "version": 3
   },
   "file_extension": ".py",
   "mimetype": "text/x-python",
   "name": "python",
   "nbconvert_exporter": "python",
   "pygments_lexer": "ipython3",
   "version": "3.6.4"
  }
 },
 "nbformat": 4,
 "nbformat_minor": 2
}
