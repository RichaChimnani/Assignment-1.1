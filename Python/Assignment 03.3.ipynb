{
 "cells": [
  {
   "cell_type": "code",
   "execution_count": 24,
   "metadata": {},
   "outputs": [
    {
     "name": "stdout",
     "output_type": "stream",
     "text": [
      "Enter list of words separated by space: \n",
      "Hi Hello bye\n",
      "The longest word is  Hello  having 5 characters.\n"
     ]
    }
   ],
   "source": [
    "# Assignment 3.3\n",
    "\n",
    "# Implement a function longestWord() that takes a list of words and returns the longest one.\n",
    "\n",
    "def longestWord():\n",
    "    word = sorted(input(\"Enter list of words separated by space: \\n\").split(), key=len) [-1]   \n",
    "    print (\"The longest word is \", str(word), \" having\", str(len(word)), \"characters.\")\n",
    "    \n",
    "longestWord()    "
   ]
  },
  {
   "cell_type": "code",
   "execution_count": null,
   "metadata": {},
   "outputs": [],
   "source": []
  },
  {
   "cell_type": "code",
   "execution_count": null,
   "metadata": {},
   "outputs": [],
   "source": []
  }
 ],
 "metadata": {
  "kernelspec": {
   "display_name": "Python 3",
   "language": "python",
   "name": "python3"
  },
  "language_info": {
   "codemirror_mode": {
    "name": "ipython",
    "version": 3
   },
   "file_extension": ".py",
   "mimetype": "text/x-python",
   "name": "python",
   "nbconvert_exporter": "python",
   "pygments_lexer": "ipython3",
   "version": "3.6.4"
  }
 },
 "nbformat": 4,
 "nbformat_minor": 2
}
