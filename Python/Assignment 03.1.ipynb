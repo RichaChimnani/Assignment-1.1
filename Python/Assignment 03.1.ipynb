{
 "cells": [
  {
   "cell_type": "code",
   "execution_count": null,
   "metadata": {},
   "outputs": [],
   "source": [
    "# Assignment 3.1\n",
    "\n",
    "# Write a python program to implement your own myreduce() function which works exactly like \n",
    "# Python's built-in function reduce()\n",
    "\n",
    "s = hello\n",
    "print(s)"
   ]
  },
  {
   "cell_type": "code",
   "execution_count": 1,
   "metadata": {},
   "outputs": [
    {
     "data": {
      "text/plain": [
       "10"
      ]
     },
     "execution_count": 1,
     "metadata": {},
     "output_type": "execute_result"
    }
   ],
   "source": [
    "# Assignment 3.1\n",
    "\n",
    "# Write a python program to implement your own myreduce() function which works exactly like \n",
    "# Python's built-in function reduce()\n",
    "\n",
    "def myreduce(eq, num):\n",
    "    if(len(num) == 1):\n",
    "        return num[0]\n",
    "    first = num[0]\n",
    "    for x in num[1:]:\n",
    "        second = x\n",
    "        result = eq(first, second)\n",
    "        first = result\n",
    "    return first\n",
    "\n",
    "myreduce(lambda x, y: x + y, [4,3,2,1])\n",
    "\n"
   ]
  },
  {
   "cell_type": "code",
   "execution_count": null,
   "metadata": {},
   "outputs": [],
   "source": []
  }
 ],
 "metadata": {
  "kernelspec": {
   "display_name": "Python 3",
   "language": "python",
   "name": "python3"
  },
  "language_info": {
   "codemirror_mode": {
    "name": "ipython",
    "version": 3
   },
   "file_extension": ".py",
   "mimetype": "text/x-python",
   "name": "python",
   "nbconvert_exporter": "python",
   "pygments_lexer": "ipython3",
   "version": "3.6.4"
  }
 },
 "nbformat": 4,
 "nbformat_minor": 2
}
