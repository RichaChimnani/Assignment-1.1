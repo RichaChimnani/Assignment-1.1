{
 "cells": [
  {
   "cell_type": "code",
   "execution_count": 6,
   "metadata": {},
   "outputs": [
    {
     "name": "stdout",
     "output_type": "stream",
     "text": [
      "Enter an Alphabet to check if it is a vowel or not : \n",
      "\n",
      "s\n",
      "The Alphabet 's' is not a Vowel\n"
     ]
    }
   ],
   "source": [
    "# Assignment 4.2 Problem Statement 2\n",
    "\n",
    "# Write a Python function which takes a character (i.e. a string of length 1) and returns True if it is a vowel, \n",
    "# False otherwise.\n",
    "\n",
    "def vowel (alphab):\n",
    "    if (alphab == \"a\" or alphab == \"A\" or alphab == \"e\" or alphab == \"E\" or alphab == \"i\" or alphab == \"I\" or alphab == \"o\" or alphab == \"O\" or alphab == \"u\" or alphab == \"U\"):\n",
    "        return \"True\"\n",
    "    else:\n",
    "        return \"False\"\n",
    "\n",
    "print (\"Enter an Alphabet to check if it is a vowel or not : \\n\")\n",
    "alphab = input()\n",
    "\n",
    "if vowel (alphab) == \"True\":\n",
    "    print(\"The Alphabet '%s' is a Vowel\" %alphab)\n",
    "else:\n",
    "    print(\"The Alphabet '%s' is not a Vowel\" %alphab)\n"
   ]
  },
  {
   "cell_type": "code",
   "execution_count": null,
   "metadata": {},
   "outputs": [],
   "source": []
  }
 ],
 "metadata": {
  "kernelspec": {
   "display_name": "Python 3",
   "language": "python",
   "name": "python3"
  },
  "language_info": {
   "codemirror_mode": {
    "name": "ipython",
    "version": 3
   },
   "file_extension": ".py",
   "mimetype": "text/x-python",
   "name": "python",
   "nbconvert_exporter": "python",
   "pygments_lexer": "ipython3",
   "version": "3.6.6"
  }
 },
 "nbformat": 4,
 "nbformat_minor": 2
}
