{
 "cells": [
  {
   "cell_type": "code",
   "execution_count": 2,
   "metadata": {},
   "outputs": [
    {
     "name": "stdout",
     "output_type": "stream",
     "text": [
      "Enter the list of words: Hi This is Assignment 4.2 Problem Statement 1\n",
      "[2, 4, 2, 10, 3, 7, 9, 1]\n"
     ]
    }
   ],
   "source": [
    "# Assignment 4.2 :: Problem Statement 1\n",
    "\n",
    "#  Write a Python program using function concept that maps list of words into a list of integers reresenting the lengths of\n",
    "#  the corresponding words.\n",
    "\n",
    "list = input (\"Enter the list of words: \")\n",
    "\n",
    "word_lengths = [len(word) for word in list.split()]\n",
    "\n",
    "print (word_lengths)"
   ]
  },
  {
   "cell_type": "code",
   "execution_count": null,
   "metadata": {},
   "outputs": [],
   "source": []
  },
  {
   "cell_type": "code",
   "execution_count": null,
   "metadata": {},
   "outputs": [],
   "source": []
  }
 ],
 "metadata": {
  "kernelspec": {
   "display_name": "Python 3",
   "language": "python",
   "name": "python3"
  },
  "language_info": {
   "codemirror_mode": {
    "name": "ipython",
    "version": 3
   },
   "file_extension": ".py",
   "mimetype": "text/x-python",
   "name": "python",
   "nbconvert_exporter": "python",
   "pygments_lexer": "ipython3",
   "version": "3.6.4"
  }
 },
 "nbformat": 4,
 "nbformat_minor": 2
}
